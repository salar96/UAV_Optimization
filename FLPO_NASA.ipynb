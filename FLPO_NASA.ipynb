{
  "nbformat": 4,
  "nbformat_minor": 0,
  "metadata": {
    "colab": {
      "provenance": []
    },
    "kernelspec": {
      "name": "python3",
      "display_name": "Python 3"
    },
    "language_info": {
      "name": "python"
    }
  },
  "cells": [
    {
      "cell_type": "code",
      "execution_count": 1,
      "metadata": {
        "id": "-6d823x91wNe"
      },
      "outputs": [],
      "source": [
        "from numpy import *\n",
        "import numpy as np\n",
        "from scipy.optimize import minimize\n",
        "from scipy.optimize import LinearConstraint\n",
        "from scipy.special import *\n",
        "from scipy.spatial.distance import cdist\n",
        "import warnings"
      ]
    },
    {
      "cell_type": "code",
      "source": [
        "# a list of drones, each element containing two tuples, representing the coordinates of the initial deployment position\n",
        "# and the destination coordinates respectively\n",
        "drones=[((35.0,32),(10.0,30),1.0),\n",
        "        ((40.0,15),(8.0,3),1.0),\n",
        "        ((20.0,4),(10.0,30),1.0),\n",
        "        ((6.0,20),(38.0,22),1.0)]\n",
        "# a list of initial location of charging stations, could be random. the size of \n",
        "# the list determines the number of charging stations\n",
        "# stations=array([[25.0,25],\n",
        "#           [30.0,15],\n",
        "#           [13.0,13]])\n",
        "stations=array([[20.0,20.0],\n",
        "          [20.0,20.0],\n",
        "          [20.0,20.0],\n",
        "])"
      ],
      "metadata": {
        "id": "VuAqLODi114_"
      },
      "execution_count": 2,
      "outputs": []
    },
    {
      "cell_type": "code",
      "source": [
        "my_inf=1e6\n",
        "full_charge_range=500.0\n",
        "def my_log(m):\n",
        "    res = log(m, out=np.zeros_like(m), where=(m>0))\n",
        "    return res\n",
        "class drone_env:\n",
        "    def __init__(self,drones,stations) -> None:\n",
        "        super().__init__()\n",
        "        self.drones=drones\n",
        "        self.stations=stations\n",
        "        self.N_drones= len(drones)\n",
        "        self.N_stations=len(stations)\n",
        "        self.stage_horizon=self.N_stations+1\n",
        "        self.gamma_k_length=self.N_stations+1\n",
        "        return\n",
        "    \n",
        "    def return_stagewise_cost(self,params): #params is like stations\n",
        "        \n",
        "        D_ss=[0]*self.N_drones\n",
        "        for drone_id,drone in enumerate(self.drones):\n",
        "            stage=concatenate((params,array(self.drones[drone_id][1]).reshape(1,-1)),axis=0)\n",
        "            D_s=[0]*(self.stage_horizon+1)\n",
        "            stage_0=array(self.drones[drone_id][0]).reshape(1,-1)\n",
        "            D_s[0]=cdist(stage_0,stage,'sqeuclidean')\n",
        "            D_s[0]=D_s[0]+0.5*my_inf*tanh(D_s[0]-self.drones[drone_id][2]*full_charge_range)+0.5*my_inf\n",
        "            \n",
        "            #D_s[0][0,-1]=D_s[0][0,-1]*(D_s[0][0,-1]>my_inf)\n",
        "\n",
        "            delta_id= self.N_stations+drone_id\n",
        "            # so far we have taken care of the first distance matrix\n",
        "            d=cdist(stage,stage,'sqeuclidean')\n",
        "            d=d+diag([my_inf]*self.gamma_k_length)\n",
        "\n",
        "            d=d+0.5*my_inf*tanh(d-full_charge_range)+0.5*my_inf\n",
        "            #d[:,-1]=d[:,-1]*(d[:,-1]>my_inf)\n",
        "            d[-1,:]=[my_inf]*self.gamma_k_length\n",
        "            d[-1,-1]=0.0\n",
        "            for i in range(1,self.stage_horizon):\n",
        "                D_s[i]=d\n",
        "            d=[my_inf]*(self.gamma_k_length-1)\n",
        "            d.append(0.0)\n",
        "            D_s[-1]=array(d).reshape(-1,1)\n",
        "            D_ss[drone_id]=D_s\n",
        "        self.D_ss=D_ss\n",
        "        return\n",
        "    def calc_associations(self,beta):\n",
        "        p=[]\n",
        "        self.return_stagewise_cost(self.params.reshape(-1,2))\n",
        "        D_ss=self.D_ss\n",
        "        for D_s in D_ss:\n",
        "            K=len(D_s)\n",
        "            D=D_s[::-1]\n",
        "            out_D=[0]*(K+1)\n",
        "            out_D[0]=array([0.0]).reshape(-1,1)\n",
        "            out_p=[0]*(K+1)\n",
        "            out_p[0]=array([1.0]).reshape(-1,1)\n",
        "            out=[0]*(K+1)\n",
        "            out[0]=array([1.0]).reshape(-1,1)\n",
        "            for i in range(1,K+1):\n",
        "                out_D[i]=(D[i-1]+repeat(transpose(out_D[i-1]),D[i-1].shape[0],axis=0))\n",
        "                m=out_D[i].min(axis=1,keepdims=True)\n",
        "                exp_D=exp(multiply(-beta,out_D[i]-m))\n",
        "                out[i]=sum(multiply(exp_D,tile(out[i-1], (1,D[i-1].shape[0])).T),axis=1,keepdims=True)\n",
        "                out_p[i]=divide(multiply(exp_D,out[i-1].T),out[i])\n",
        "                out_D[i]=m\n",
        "            p.append(out_p[::-1][:-1])\n",
        "        self.P_ss=p\n",
        "        return\n",
        "    def free_energy(self,D_s,P_s,beta):\n",
        "        '''\n",
        "        input: D_s: a list of K numpy arrays corrosponding to distances between stages\n",
        "        P_s: a list of K numpy arrays corrosponding to probabilities between stages\n",
        "\n",
        "        output: out_c: K+1 numpy arrays with shape[1]=1, indicating the total cost of nodes\n",
        "        '''\n",
        "        K=len(D_s)\n",
        "        D=D_s[::-1]\n",
        "        P=P_s[::-1]\n",
        "        out_P=[0]*(K+1)\n",
        "        out_C=[0]*(K+1)\n",
        "        out_H=[0]*(K+1)\n",
        "        out_P[0]=array([1.0]).reshape(-1,1)\n",
        "        out_C[0]=array([0.0]).reshape(-1,1)\n",
        "        out_H[0]=array([0.0]).reshape(-1,1)\n",
        "        for i in range(1,K+1):\n",
        "          # assigning P of each node for calculating C in the next i\n",
        "          out_P[i]=(P[i-1]*repeat(transpose(out_P[i-1]),P[i-1].shape[0],axis=0)).sum(axis=1).reshape(-1,1)\n",
        "          out_C[i]=(P[i-1]*(D[i-1]*repeat(transpose(out_P[i-1]),D[i-1].shape[0],axis=0)+repeat(transpose(out_C[i-1]),D[i-1].shape[0],axis=0))).sum(axis=1).reshape(-1,1)\n",
        "          out_H[i]=-(P[i-1]*(my_log(P[i-1])*repeat(transpose(out_P[i-1]),D[i-1].shape[0],axis=0)-repeat(transpose(out_H[i-1]),D[i-1].shape[0],axis=0))).sum(axis=1).reshape(-1,1)\n",
        "          \n",
        "        # D-1/beta*H\n",
        "        return (out_C[-1].T).sum() + (-1/beta)*(out_H[-1].T).sum()\n",
        "    def objective(self,params,beta):\n",
        "        self.return_stagewise_cost(params.reshape(-1,2))\n",
        "        cost=0\n",
        "        for i in range(len(self.D_ss)):\n",
        "            cost+=self.free_energy(self.D_ss[i],self.P_ss[i],beta)\n",
        "        return cost\n",
        "    def optimize_D(self,init_guess,beta):\n",
        "        result = minimize(self.objective, init_guess,args=(beta,))#,method='nelder-mead'\n",
        "        self.params = result.x\n",
        "        self.cost_fun=result.fun\n",
        "    def train(self,beta_init=1e-6,beta_f=100,alpha=1.2):\n",
        "        self.params=ndarray.flatten(self.stations)\n",
        "        beta=beta_init\n",
        "        init_guess=self.params\n",
        "        while beta <= beta_f:\n",
        "            count=0\n",
        "            while True:\n",
        "                self.calc_associations(beta) #based on D_ss\n",
        "                #init_guess_d=init_guess+random.normal(0, 0.01, init_guess.shape)\n",
        "                self.optimize_D(init_guess,beta) #based on P_ss\n",
        "                #print(self.params)\n",
        "                if linalg.norm(self.params-init_guess) <=1e-5:\n",
        "                  break\n",
        "                init_guess=self.params\n",
        "                count+=1 \n",
        "            self.params=self.params+random.normal(0, 0.1, self.params.shape)\n",
        "            print(f'Beta: {beta}  epoches: {count} cost: {self.cost_fun}')\n",
        "            beta=beta*alpha"
      ],
      "metadata": {
        "id": "z697FuILrC7b"
      },
      "execution_count": 3,
      "outputs": []
    },
    {
      "cell_type": "code",
      "source": [
        "env=drone_env(drones,stations)\n",
        "env.train()"
      ],
      "metadata": {
        "colab": {
          "base_uri": "https://localhost:8080/"
        },
        "id": "4X2SFvoZD5WU",
        "outputId": "2ad226ec-5e23-4c0c-910d-316daa31d218"
      },
      "execution_count": 4,
      "outputs": [
        {
          "output_type": "stream",
          "name": "stdout",
          "text": [
            "Beta: 1e-06  epoches: 1 cost: -15391617.028347898\n",
            "Beta: 1.2e-06  epoches: 1 cost: -12267536.502277829\n",
            "Beta: 1.44e-06  epoches: 3 cost: -9791831.107973613\n",
            "Beta: 1.7279999999999998e-06  epoches: 8 cost: -7845211.247813411\n",
            "Beta: 2.0735999999999995e-06  epoches: 4 cost: -6321914.375426132\n",
            "Beta: 2.4883199999999992e-06  epoches: 2 cost: -5129983.765486451\n",
            "Beta: 2.985983999999999e-06  epoches: 4 cost: -4192534.4008234795\n",
            "Beta: 3.583180799999999e-06  epoches: 2 cost: -3448315.3614715785\n",
            "Beta: 4.299816959999999e-06  epoches: 2 cost: -2850645.530517908\n",
            "Beta: 5.159780351999998e-06  epoches: 4 cost: -2365063.0984790986\n",
            "Beta: 6.1917364223999975e-06  epoches: 4 cost: -1966578.2297014403\n",
            "Beta: 7.430083706879996e-06  epoches: 8 cost: -1637143.5576264085\n",
            "Beta: 8.916100448255995e-06  epoches: 7 cost: -1363552.5409746538\n",
            "Beta: 1.0699320537907193e-05  epoches: 0 cost: -1135826.3051828528\n",
            "Beta: 1.2839184645488632e-05  epoches: 0 cost: -946112.054388826\n",
            "Beta: 1.540702157458636e-05  epoches: 1 cost: -788025.868231594\n",
            "Beta: 1.848842588950363e-05  epoches: 3 cost: -656288.3428476681\n",
            "Beta: 2.2186111067404355e-05  epoches: 2 cost: -546507.1372053442\n",
            "Beta: 2.6623333280885226e-05  epoches: 4 cost: -455022.80178160884\n",
            "Beta: 3.194799993706227e-05  epoches: 2 cost: -378785.8556496656\n",
            "Beta: 3.833759992447472e-05  epoches: 1 cost: -315255.0672093455\n",
            "Beta: 4.600511990936966e-05  epoches: 3 cost: -262312.74350726395\n",
            "Beta: 5.520614389124359e-05  epoches: 7 cost: -218194.1404235905\n",
            "Beta: 6.62473726694923e-05  epoches: 4 cost: -181428.63785270078\n",
            "Beta: 7.949684720339076e-05  epoches: 5 cost: -150790.71904393594\n",
            "Beta: 9.539621664406892e-05  epoches: 5 cost: -125259.12003684888\n",
            "Beta: 0.00011447545997288269  epoches: 2 cost: -103982.78753063662\n",
            "Beta: 0.00013737055196745923  epoches: 2 cost: -86252.51044215396\n",
            "Beta: 0.00016484466236095106  epoches: 2 cost: -71477.27953467859\n",
            "Beta: 0.00019781359483314126  epoches: 2 cost: -59164.58711145938\n",
            "Beta: 0.0002373763137997695  epoches: 3 cost: -48904.010093759505\n",
            "Beta: 0.0002848515765597234  epoches: 4 cost: -40353.52924492734\n",
            "Beta: 0.00034182189187166806  epoches: 3 cost: -33228.128535872675\n",
            "Beta: 0.0004101862702460017  epoches: 4 cost: -27290.2946143094\n",
            "Beta: 0.000492223524295202  epoches: 6 cost: -22342.099678633247\n",
            "Beta: 0.0005906682291542423  epoches: 5 cost: -18218.603898818736\n",
            "Beta: 0.0007088018749850907  epoches: 5 cost: -14782.357415611576\n",
            "Beta: 0.0008505622499821088  epoches: 4 cost: -11918.8186793965\n",
            "Beta: 0.0010206746999785305  epoches: 6 cost: -9532.536399714176\n",
            "Beta: 0.0012248096399742365  epoches: 4 cost: -7543.967832882687\n",
            "Beta: 0.0014697715679690838  epoches: 6 cost: -5886.827360697884\n",
            "Beta: 0.0017637258815629004  epoches: 6 cost: -4505.876967461837\n",
            "Beta: 0.0021164710578754804  epoches: 4 cost: -3355.0849722072635\n",
            "Beta: 0.0025397652694505763  epoches: 6 cost: -2396.0916436594\n",
            "Beta: 0.0030477183233406915  epoches: 8 cost: -1596.9305367442034\n",
            "Beta: 0.0036572619880088295  epoches: 9 cost: -930.9629472342891\n",
            "Beta: 0.004388714385610595  epoches: 9 cost: -375.9899550020036\n",
            "Beta: 0.005266457262732714  epoches: 11 cost: 86.4875375932113\n",
            "Beta: 0.006319748715279256  epoches: 12 cost: 471.88544989830655\n",
            "Beta: 0.007583698458335107  epoches: 21 cost: 793.0503756049998\n",
            "Beta: 0.009100438150002128  epoches: 31 cost: 1060.6878705621043\n",
            "Beta: 0.010920525780002553  epoches: 63 cost: 1269.504426625133\n",
            "Beta: 0.013104630936003062  epoches: 62 cost: 1420.9844958790454\n",
            "Beta: 0.015725557123203674  epoches: 86 cost: 1535.4036076482787\n",
            "Beta: 0.01887066854784441  epoches: 242 cost: 1622.3673044428429\n",
            "Beta: 0.02264480225741329  epoches: 30 cost: 1538.262354704029\n",
            "Beta: 0.02717376270889595  epoches: 25 cost: 1553.378602992176\n",
            "Beta: 0.03260851525067514  epoches: 23 cost: 1561.6981060943015\n",
            "Beta: 0.03913021830081016  epoches: 21 cost: 1566.5853825039073\n",
            "Beta: 0.0469562619609722  epoches: 9 cost: 1569.4207388903887\n",
            "Beta: 0.056347514353166636  epoches: 6 cost: 1570.9470016150765\n",
            "Beta: 0.06761701722379997  epoches: 4 cost: 1571.7127151881368\n",
            "Beta: 0.08114042066855996  epoches: 6 cost: 1572.070759198819\n",
            "Beta: 0.09736850480227195  epoches: 7 cost: 1572.2246524721158\n",
            "Beta: 0.11684220576272633  epoches: 3 cost: 1572.2839311185146\n",
            "Beta: 0.1402106469152716  epoches: 4 cost: 1572.303700344865\n",
            "Beta: 0.1682527762983259  epoches: 1 cost: 1572.3091788105955\n",
            "Beta: 0.2019033315579911  epoches: 2 cost: 1572.3103836712146\n",
            "Beta: 0.2422839978695893  epoches: 0 cost: 1572.3106130283068\n",
            "Beta: 0.2907407974435071  epoches: 0 cost: 1572.3106063532618\n",
            "Beta: 0.3488889569322085  epoches: 0 cost: 1572.3106080795756\n",
            "Beta: 0.4186667483186502  epoches: 0 cost: 1572.3106081248127\n",
            "Beta: 0.5024000979823802  epoches: 0 cost: 1572.310608121079\n",
            "Beta: 0.6028801175788562  epoches: 0 cost: 1572.310608120868\n",
            "Beta: 0.7234561410946274  epoches: 0 cost: 1572.310608120868\n",
            "Beta: 0.8681473693135529  epoches: 0 cost: 1572.310608120868\n",
            "Beta: 1.0417768431762633  epoches: 0 cost: 1572.310608120868\n",
            "Beta: 1.250132211811516  epoches: 0 cost: 1572.310608120868\n",
            "Beta: 1.500158654173819  epoches: 0 cost: 1572.310608120868\n",
            "Beta: 1.8001903850085827  epoches: 0 cost: 1572.310608120868\n",
            "Beta: 2.1602284620102994  epoches: 0 cost: 1572.310608120868\n",
            "Beta: 2.592274154412359  epoches: 0 cost: 1572.310608120868\n",
            "Beta: 3.110728985294831  epoches: 0 cost: 1572.310608120868\n",
            "Beta: 3.732874782353797  epoches: 0 cost: 1572.310608120868\n",
            "Beta: 4.479449738824556  epoches: 0 cost: 1572.310608120868\n",
            "Beta: 5.375339686589467  epoches: 0 cost: 1572.310608120868\n",
            "Beta: 6.450407623907361  epoches: 0 cost: 1572.310608120868\n",
            "Beta: 7.740489148688832  epoches: 0 cost: 1572.310608120868\n",
            "Beta: 9.288586978426599  epoches: 0 cost: 1572.310608120868\n",
            "Beta: 11.146304374111919  epoches: 0 cost: 1572.310608120868\n",
            "Beta: 13.375565248934302  epoches: 0 cost: 1572.310608120868\n",
            "Beta: 16.050678298721163  epoches: 0 cost: 1572.310608120868\n",
            "Beta: 19.260813958465395  epoches: 0 cost: 1572.310608120868\n",
            "Beta: 23.112976750158474  epoches: 0 cost: 1572.310608120868\n",
            "Beta: 27.73557210019017  epoches: 0 cost: 1572.310608120868\n",
            "Beta: 33.282686520228204  epoches: 0 cost: 1572.310608120868\n",
            "Beta: 39.939223824273846  epoches: 0 cost: 1572.310608120868\n",
            "Beta: 47.927068589128616  epoches: 0 cost: 1572.310608120868\n",
            "Beta: 57.51248230695434  epoches: 0 cost: 1572.310608120868\n",
            "Beta: 69.0149787683452  epoches: 0 cost: 1572.310608120868\n",
            "Beta: 82.81797452201424  epoches: 0 cost: 1572.310608120868\n",
            "Beta: 99.38156942641709  epoches: 0 cost: 1572.310608120868\n"
          ]
        }
      ]
    },
    {
      "cell_type": "code",
      "source": [
        "O=[]\n",
        "for i in range(env.N_drones):\n",
        "  m=0\n",
        "  o=[]\n",
        "  for p in env.P_ss[i]:\n",
        "      m=argmax(p[m,:])\n",
        "      o.append(m)\n",
        "  o.pop()\n",
        "  O.append(o)\n"
      ],
      "metadata": {
        "id": "pVrxrKXZIz06"
      },
      "execution_count": 5,
      "outputs": []
    },
    {
      "cell_type": "code",
      "source": [
        "from matplotlib import pyplot as plt\n",
        "state_locs=env.params.reshape(-1,2)\n",
        "drone_locs=array([i[0] for i in env.drones])\n",
        "dest_locs=array([i[1] for i in env.drones])\n",
        "plt.scatter(drone_locs[:,0],drone_locs[:,1],color='black',label='Drone locations')\n",
        "for i, loc in enumerate(drone_locs):\n",
        "    plt.text(loc[0], loc[1], 'V'+str(i+1), ha='center', va='bottom')\n",
        "plt.scatter(state_locs[:,0],state_locs[:,1],marker='^',label='Station locations')\n",
        "for i, loc in enumerate(state_locs):\n",
        "    plt.text(loc[0], loc[1], 'F'+str(i+1), ha='center', va='bottom')\n",
        "plt.scatter(dest_locs[:,0],dest_locs[:,1],marker='*',label='Destinations')\n",
        "for i, loc in enumerate(dest_locs):\n",
        "    plt.text(loc[0]+2*random.rand()*(-1)**round(random.rand()), loc[1]+2*random.rand(), 'D'+str(i+1), ha='center', va='bottom')\n",
        "options = ['-', '--', '-.', ':',]\n",
        "for i, o in enumerate(O):\n",
        "    line_style=random.choice(options)\n",
        "    drone_loc = drone_locs[i]\n",
        "    try:\n",
        "      state_loc = state_locs[o[0]]\n",
        "    except:\n",
        "      state_loc=dest_locs[i]\n",
        "    color=random.rand(3)\n",
        "    # Draw a line between drone_loc and state_loc\n",
        "    plt.plot([drone_loc[0], state_loc[0]], [drone_loc[1], state_loc[1]], color=color,linewidth=1.5,linestyle=line_style)\n",
        "    dist = np.sum((drone_loc - state_loc) ** 2)\n",
        "    col='red' if dist > drones[i][2]*full_charge_range else 'green'\n",
        "    if dist >0.0:\n",
        "      plt.text((drone_loc[0] + state_loc[0]) / 2, (drone_loc[1] + state_loc[1]) / 2, f'{dist:.0f}', color=col, ha='center')\n",
        "    # Draw lines between each two elements in o\n",
        "    if len(o)>1:\n",
        "      for j in range(len(o) - 1):\n",
        "          try:\n",
        "            loc1 = state_locs[o[j]]\n",
        "          except:\n",
        "            loc1 = dest_locs[i]\n",
        "          try:\n",
        "            loc2 = state_locs[o[j + 1]]\n",
        "          except:\n",
        "            loc2=dest_locs[i]\n",
        "          # Draw a line between loc1 and loc2\n",
        "          plt.plot([loc1[0], loc2[0]], [loc1[1], loc2[1]], color=color,linewidth=1.5,linestyle=line_style)\n",
        "          dist = np.sum((loc1 - loc2) ** 2)\n",
        "          col='red' if dist > full_charge_range else 'green'\n",
        "          if dist>0.0:\n",
        "           plt.text((loc1[0] + loc2[0]) / 2, (loc1[1] + loc2[1]) / 2, f'{dist:.0f}', color=col, ha='center')\n",
        "# Set axis labels and legend\n",
        "plt.xlabel('X')\n",
        "plt.ylabel('Y')\n",
        "plt.legend()\n",
        "\n",
        "# Display the plot\n",
        "plt.show()"
      ],
      "metadata": {
        "colab": {
          "base_uri": "https://localhost:8080/",
          "height": 449
        },
        "id": "VesMCgpxAgOt",
        "outputId": "c8ae3014-9f68-48c1-9425-74a3f4758e52"
      },
      "execution_count": 11,
      "outputs": [
        {
          "output_type": "display_data",
          "data": {
            "text/plain": [
              "<Figure size 640x480 with 1 Axes>"
            ],
            "image/png": "[encoded data removed]"
          },
          "metadata": {}
        }
      ]
    },
    {
      "cell_type": "code",
      "source": [
        "for i,o in enumerate(O):\n",
        "  print(f'\\nDrone{i+1} --->', end='')\n",
        "  for j in o:\n",
        "    if j<env.N_stations:\n",
        "      print(f'f{j+1} --->', end='')\n",
        "    else:\n",
        "      print(f'[D{i+1}]', end='')"
      ],
      "metadata": {
        "colab": {
          "base_uri": "https://localhost:8080/"
        },
        "id": "QGCoGquAz7ij",
        "outputId": "0f82cb06-0008-409b-cf74-0b50d0401063"
      },
      "execution_count": 9,
      "outputs": [
        {
          "output_type": "stream",
          "name": "stdout",
          "text": [
            "\n",
            "Drone1 --->f3 --->f2 --->[D1][D1]\n",
            "Drone2 --->f3 --->f2 --->f1 --->[D2]\n",
            "Drone3 --->f1 --->f2 --->[D3][D3]\n",
            "Drone4 --->f2 --->f3 --->[D4][D4]"
          ]
        }
      ]
    },
    {
      "cell_type": "code",
      "source": [
        "env.params"
      ],
      "metadata": {
        "id": "bI2OKll5dbr1",
        "colab": {
          "base_uri": "https://localhost:8080/"
        },
        "outputId": "cf032a5b-9e13-4e72-aace-70d8856228dc"
      },
      "execution_count": 10,
      "outputs": [
        {
          "output_type": "execute_result",
          "data": {
            "text/plain": [
              "array([15.79354657, 12.40539381, 17.4700532 , 21.41657242, 27.59937185,\n",
              "       22.24315672])"
            ]
          },
          "metadata": {},
          "execution_count": 10
        }
      ]
    }
  ]
}