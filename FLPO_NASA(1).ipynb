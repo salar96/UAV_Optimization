{
  "nbformat": 4,
  "nbformat_minor": 0,
  "metadata": {
    "colab": {
      "provenance": []
    },
    "kernelspec": {
      "name": "python3",
      "display_name": "Python 3"
    },
    "language_info": {
      "name": "python"
    }
  },
  "cells": [
    {
      "cell_type": "code",
      "execution_count": 5,
      "metadata": {
        "id": "-6d823x91wNe"
      },
      "outputs": [],
      "source": [
        "from numpy import *\n",
        "import numpy as np\n",
        "from scipy.optimize import minimize\n",
        "from scipy.optimize import LinearConstraint\n",
        "from scipy.special import *\n",
        "from scipy.spatial.distance import cdist\n",
        "import warnings"
      ]
    },
    {
      "cell_type": "code",
      "source": [
        "# a list of drones, each element containing two tuples, representing the coordinates of the initial deployment position\n",
        "# and the destination coordinates respectively\n",
        "drones=[((35.0,32),(10.0,30),1),\n",
        "        ((40.0,15),(8.0,3),1),\n",
        "        ((20.0,4),(10.0,30),.2),\n",
        "        ((6.0,20),(38.0,22),.2)]\n",
        "# a list of initial location of charging stations, could be random. the size of \n",
        "# the list determines the number of charging stations\n",
        "# stations=array([[25.0,25],\n",
        "#           [30.0,15],\n",
        "#           [13.0,13]])\n",
        "stations=array([[20.0,20.0],\n",
        "          [20.0,20.0],\n",
        "          [20.0,20.0],\n",
        "])"
      ],
      "metadata": {
        "id": "VuAqLODi114_"
      },
      "execution_count": 43,
      "outputs": []
    },
    {
      "cell_type": "code",
      "source": [
        "my_inf=1e6\n",
        "full_charge_range=800.0\n",
        "def my_log(m):\n",
        "    res = log(m, out=np.zeros_like(m), where=(m>0))\n",
        "    return res\n",
        "class drone_env:\n",
        "    def __init__(self,drones,stations) -> None:\n",
        "        super().__init__()\n",
        "        self.drones=drones\n",
        "        self.stations=stations\n",
        "        self.N_drones= len(drones)\n",
        "        self.N_stations=len(stations)\n",
        "        self.stage_horizon=self.N_stations+1\n",
        "        self.gamma_k_length=self.N_stations+1\n",
        "        return\n",
        "    \n",
        "    def return_stagewise_cost(self,params): #params is like stations\n",
        "        \n",
        "        D_ss=[0]*self.N_drones\n",
        "        for drone_id,drone in enumerate(self.drones):\n",
        "            stage=concatenate((params,array(self.drones[drone_id][1]).reshape(1,-1)),axis=0)\n",
        "            D_s=[0]*(self.stage_horizon+1)\n",
        "            stage_0=array(self.drones[drone_id][0]).reshape(1,-1)\n",
        "            D_s[0]=cdist(stage_0,stage,'sqeuclidean')\n",
        "            D_s[0]=D_s[0]+0.5*my_inf*tanh(D_s[0]-self.drones[drone_id][2]*full_charge_range)+0.5*my_inf\n",
        "            D_s[0][0,-1]=D_s[0][0,-1]*(D_s[0][0,-1]>my_inf)\n",
        "            delta_id= self.N_stations+drone_id\n",
        "            # so far we have taken care of the first distance matrix\n",
        "            d=cdist(stage,stage,'sqeuclidean')\n",
        "            d=d+diag([my_inf]*self.gamma_k_length)\n",
        "\n",
        "            d=d+0.5*my_inf*tanh(d-full_charge_range)+0.5*my_inf\n",
        "            d[:,-1]=d[:,-1]*(d[:,-1]>my_inf)\n",
        "\n",
        "            d[-1,:]=[my_inf]*self.gamma_k_length\n",
        "            d[-1,-1]=0.0\n",
        "            for i in range(1,self.stage_horizon):\n",
        "                D_s[i]=d\n",
        "            d=[my_inf]*(self.gamma_k_length-1)\n",
        "            d.append(0.0)\n",
        "            D_s[-1]=array(d).reshape(-1,1)\n",
        "            D_ss[drone_id]=D_s\n",
        "        self.D_ss=D_ss\n",
        "        return\n",
        "    def calc_associations(self,beta):\n",
        "        p=[]\n",
        "        D_ss=self.D_ss\n",
        "        for D_s in D_ss:\n",
        "            K=len(D_s)\n",
        "            D=D_s[::-1]\n",
        "            out_D=[0]*(K+1)\n",
        "            out_D[0]=array([0.0]).reshape(-1,1)\n",
        "            out_p=[0]*(K+1)\n",
        "            out_p[0]=array([1.0]).reshape(-1,1)\n",
        "            out=[0]*(K+1)\n",
        "            out[0]=array([1.0]).reshape(-1,1)\n",
        "            for i in range(1,K+1):\n",
        "                out_D[i]=(D[i-1]+repeat(transpose(out_D[i-1]),D[i-1].shape[0],axis=0))\n",
        "                m=out_D[i].min(axis=1,keepdims=True)\n",
        "                exp_D=exp(multiply(-beta,out_D[i]-m))\n",
        "                out[i]=sum(multiply(exp_D,tile(out[i-1], (1,D[i-1].shape[0])).T),axis=1,keepdims=True)\n",
        "                out_p[i]=divide(multiply(exp_D,out[i-1].T),out[i])\n",
        "                out_D[i]=m\n",
        "            p.append(out_p[::-1][:-1])\n",
        "        self.P_ss=p\n",
        "        return\n",
        "    def free_energy(self,D_s,P_s,beta):\n",
        "        '''\n",
        "        input: D_s: a list of K numpy arrays corrosponding to distances between stages\n",
        "        P_s: a list of K numpy arrays corrosponding to probabilities between stages\n",
        "\n",
        "        output: out_c: K+1 numpy arrays with shape[1]=1, indicating the total cost of nodes\n",
        "        '''\n",
        "        K=len(D_s)\n",
        "        D=D_s[::-1]\n",
        "        P=P_s[::-1]\n",
        "        out_P=[0]*(K+1)\n",
        "        out_C=[0]*(K+1)\n",
        "        out_H=[0]*(K+1)\n",
        "        out_P[0]=array([1.0]).reshape(-1,1)\n",
        "        out_C[0]=array([0.0]).reshape(-1,1)\n",
        "        out_H[0]=array([0.0]).reshape(-1,1)\n",
        "        for i in range(1,K+1):\n",
        "          # assigning P of each node for calculating C in the next i\n",
        "          out_P[i]=(P[i-1]*repeat(transpose(out_P[i-1]),P[i-1].shape[0],axis=0)).sum(axis=1).reshape(-1,1)\n",
        "          out_C[i]=(P[i-1]*(D[i-1]*repeat(transpose(out_P[i-1]),D[i-1].shape[0],axis=0)+repeat(transpose(out_C[i-1]),D[i-1].shape[0],axis=0))).sum(axis=1).reshape(-1,1)\n",
        "          out_H[i]=-(P[i-1]*(my_log(P[i-1])*repeat(transpose(out_P[i-1]),D[i-1].shape[0],axis=0)-repeat(transpose(out_H[i-1]),D[i-1].shape[0],axis=0))).sum(axis=1).reshape(-1,1)\n",
        "          \n",
        "        # D-1/beta*H\n",
        "        return (out_C[-1].T).sum() + (-1/beta)*(out_H[-1].T).sum()\n",
        "    def objective(self,params,beta):\n",
        "        self.return_stagewise_cost(params.reshape(-1,2))\n",
        "        cost=0\n",
        "        for i in range(len(self.D_ss)):\n",
        "            cost+=self.free_energy(self.D_ss[i],self.P_ss[i],beta)\n",
        "        return cost\n",
        "    def optimize_D(self,init_guess,beta):\n",
        "        result = minimize(self.objective, init_guess,args=(beta,))#,method='nelder-mead'\n",
        "        self.params = result.x\n",
        "        self.return_stagewise_cost(self.params.reshape(-1,2))\n",
        "        self.cost_fun=result.fun\n",
        "    def train(self,beta_init=1e-6,beta_f=100,alpha=1.5):\n",
        "        self.return_stagewise_cost(self.stations)\n",
        "        beta=beta_init\n",
        "        init_guess=ndarray.flatten(self.stations)\n",
        "        while beta <= beta_f:\n",
        "            count=0\n",
        "            while True:\n",
        "                self.calc_associations(beta) #based on D_ss\n",
        "                self.optimize_D(init_guess,beta) #based on P_ss\n",
        "                #print(self.params)\n",
        "                if linalg.norm(self.params-init_guess) <=1e-5:\n",
        "                  break\n",
        "                init_guess=self.params\n",
        "                count+=1\n",
        "            print(f'Beta: {beta}  epoches: {count} cost: {self.cost_fun}')\n",
        "            beta=beta*alpha"
      ],
      "metadata": {
        "id": "z697FuILrC7b"
      },
      "execution_count": 44,
      "outputs": []
    },
    {
      "cell_type": "code",
      "source": [
        "env=drone_env(drones,stations)\n",
        "env.train()"
      ],
      "metadata": {
        "colab": {
          "base_uri": "https://localhost:8080/"
        },
        "id": "4X2SFvoZD5WU",
        "outputId": "246177f4-9633-4ad9-b34b-a8bb9bec2abd"
      },
      "execution_count": 45,
      "outputs": [
        {
          "output_type": "stream",
          "name": "stdout",
          "text": [
            "Beta: 1e-06  epoches: 5 cost: -13740843.424323142\n",
            "Beta: 1.5e-06  epoches: 3 cost: -7533712.425351434\n",
            "Beta: 2.25e-06  epoches: 5 cost: -3866167.582511682\n",
            "Beta: 3.375e-06  epoches: 1 cost: -1729415.9840347194\n",
            "Beta: 5.062499999999999e-06  epoches: 1 cost: -441707.06072232476\n",
            "Beta: 7.593749999999999e-06  epoches: 1 cost: 378565.12350052944\n",
            "Beta: 1.1390624999999999e-05  epoches: 5 cost: 919764.124340958\n",
            "Beta: 1.7085937499999998e-05  epoches: 0 cost: 1280233.3270375798\n",
            "Beta: 2.5628906249999997e-05  epoches: 0 cost: 1520540.9480161038\n",
            "Beta: 3.8443359375e-05  epoches: 6 cost: 1680745.8925443059\n",
            "Beta: 5.76650390625e-05  epoches: 4 cost: 1787549.0031489497\n",
            "Beta: 8.649755859375e-05  epoches: 3 cost: 1858750.8006241336\n",
            "Beta: 0.000129746337890625  epoches: 0 cost: 1906218.2569168122\n",
            "Beta: 0.00019461950683593752  epoches: 1 cost: 1937862.6253986238\n",
            "Beta: 0.0002919292602539063  epoches: 2 cost: 1958957.9943945822\n",
            "Beta: 0.0004378938903808594  epoches: 2 cost: 1973020.313882478\n",
            "Beta: 0.0006568408355712891  epoches: 1 cost: 1982393.4203077345\n",
            "Beta: 0.0009852612533569338  epoches: 1 cost: 1988639.7329344763\n",
            "Beta: 0.0014778918800354007  epoches: 1 cost: 1992800.7455021525\n",
            "Beta: 0.002216837820053101  epoches: 5 cost: 1995570.691729674\n",
            "Beta: 0.0033252567300796516  epoches: 3 cost: 1997412.1404735227\n",
            "Beta: 0.0049878850951194775  epoches: 3 cost: 1998632.0951113268\n",
            "Beta: 0.007481827642679216  epoches: 4 cost: 999428.0091340686\n",
            "Beta: 0.011222741464018825  epoches: 13 cost: 999898.8091751023\n",
            "Beta: 0.016834112196028237  epoches: 2 cost: 1000175.2693519078\n",
            "Beta: 0.025251168294042357  epoches: 17 cost: 165.77009343714136\n",
            "Beta: 0.03787675244106353  epoches: 0 cost: 202.90831734049533\n",
            "Beta: 0.0568151286615953  epoches: 1 cost: 204.6478988286819\n",
            "Beta: 0.08522269299239295  epoches: 0 cost: 217.19056825798063\n",
            "Beta: 0.12783403948858943  epoches: 0 cost: 224.0966105337629\n",
            "Beta: 0.19175105923288416  epoches: 0 cost: 227.53075601293497\n",
            "Beta: 0.28762658884932624  epoches: 0 cost: 228.93865698733376\n",
            "Beta: 0.43143988327398936  epoches: 0 cost: 229.36331411116888\n",
            "Beta: 0.647159824910984  epoches: 0 cost: 229.4448259307586\n",
            "Beta: 0.970739737366476  epoches: 0 cost: 229.45276210760613\n",
            "Beta: 1.456109606049714  epoches: 0 cost: 229.4530418961458\n",
            "Beta: 2.184164409074571  epoches: 0 cost: 229.4530440933962\n",
            "Beta: 3.276246613611857  epoches: 0 cost: 229.45304409525116\n",
            "Beta: 4.914369920417785  epoches: 0 cost: 229.45304409525124\n",
            "Beta: 7.371554880626678  epoches: 0 cost: 229.45304409525124\n",
            "Beta: 11.057332320940017  epoches: 0 cost: 229.45304409525124\n",
            "Beta: 16.585998481410023  epoches: 0 cost: 229.45304409525124\n",
            "Beta: 24.878997722115034  epoches: 0 cost: 229.45304409525124\n",
            "Beta: 37.31849658317255  epoches: 0 cost: 229.45304409525124\n",
            "Beta: 55.97774487475883  epoches: 0 cost: 229.45304409525124\n",
            "Beta: 83.96661731213824  epoches: 0 cost: 229.45304409525124\n"
          ]
        }
      ]
    },
    {
      "cell_type": "code",
      "source": [
        "O=[]\n",
        "for i in range(env.N_drones):\n",
        "  m=0\n",
        "  o=[]\n",
        "  for p in env.P_ss[i]:\n",
        "      m=argmax(p[m,:])\n",
        "      o.append(m)\n",
        "  o.pop()\n",
        "  O.append(o)\n"
      ],
      "metadata": {
        "id": "pVrxrKXZIz06"
      },
      "execution_count": 46,
      "outputs": []
    },
    {
      "cell_type": "code",
      "source": [
        "from matplotlib import pyplot as plt\n",
        "state_locs=env.params.reshape(-1,2)\n",
        "drone_locs=array([i[0] for i in env.drones])\n",
        "dest_locs=array([i[1] for i in env.drones])\n",
        "plt.scatter(drone_locs[:,0],drone_locs[:,1],color='black',label='Drone locations')\n",
        "for i, loc in enumerate(drone_locs):\n",
        "    plt.text(loc[0], loc[1], 'V'+str(i+1), ha='center', va='bottom')\n",
        "plt.scatter(state_locs[:,0],state_locs[:,1],marker='^',label='Station locations')\n",
        "for i, loc in enumerate(state_locs):\n",
        "    plt.text(loc[0], loc[1], 'F'+str(i+1), ha='center', va='bottom')\n",
        "plt.scatter(dest_locs[:,0],dest_locs[:,1],marker='*',label='Destinations')\n",
        "for i, loc in enumerate(dest_locs):\n",
        "    plt.text(loc[0]+2*random.rand()*(-1)**round(random.rand()), loc[1]+2*random.rand(), 'D'+str(i+1), ha='center', va='bottom')\n",
        "options = ['-', '--', '-.', ':',]\n",
        "for i, o in enumerate(O):\n",
        "    drone_loc = drone_locs[i]\n",
        "    try:\n",
        "      state_loc = state_locs[o[0]]\n",
        "    except:\n",
        "      state_loc=dest_locs[i]\n",
        "    color=random.rand(3)\n",
        "    # Draw a line between drone_loc and state_loc\n",
        "    plt.plot([drone_loc[0], state_loc[0]], [drone_loc[1], state_loc[1]], color=color,linewidth=1.5,linestyle=random.choice(options))\n",
        "    \n",
        "    # Draw lines between each two elements in o\n",
        "    if len(o)>1:\n",
        "      for j in range(len(o) - 1):\n",
        "          try:\n",
        "            loc1 = state_locs[o[j]]\n",
        "          except:\n",
        "            loc1 = dest_locs[i]\n",
        "          try:\n",
        "            loc2 = state_locs[o[j + 1]]\n",
        "          except:\n",
        "            loc2=dest_locs[i]\n",
        "          # Draw a line between loc1 and loc2\n",
        "          plt.plot([loc1[0], loc2[0]], [loc1[1], loc2[1]], color=color,linewidth=1.5,linestyle=random.choice(options))\n",
        "\n",
        "# Set axis labels and legend\n",
        "plt.xlabel('X')\n",
        "plt.ylabel('Y')\n",
        "plt.legend()\n",
        "\n",
        "# Display the plot\n",
        "plt.show()"
      ],
      "metadata": {
        "colab": {
          "base_uri": "https://localhost:8080/",
          "height": 449
        },
        "id": "VesMCgpxAgOt",
        "outputId": "03d3f749-6761-4934-b2f6-011eff15091c"
      },
      "execution_count": 47,
      "outputs": [
        {
          "output_type": "display_data",
          "data": {
            "text/plain": [
              "<Figure size 640x480 with 1 Axes>"
            ],
            "image/png": "[encoded data removed]"
          },
          "metadata": {}
        }
      ]
    },
    {
      "cell_type": "code",
      "source": [
        "for i,o in enumerate(O):\n",
        "  print(f'\\nDrone{i+1} --->', end='')\n",
        "  for j in o:\n",
        "    if j<env.N_stations:\n",
        "      print(f'f{j+1} --->', end='')\n",
        "    else:\n",
        "      print(f'[D{i+1}]', end='')"
      ],
      "metadata": {
        "colab": {
          "base_uri": "https://localhost:8080/"
        },
        "id": "QGCoGquAz7ij",
        "outputId": "364f1730-8544-4ad4-f2b3-fbe530e3156e"
      },
      "execution_count": 48,
      "outputs": [
        {
          "output_type": "stream",
          "name": "stdout",
          "text": [
            "\n",
            "Drone1 --->[D1][D1][D1][D1]\n",
            "Drone2 --->f3 --->[D2][D2][D2]\n",
            "Drone3 --->f2 --->[D3][D3][D3]\n",
            "Drone4 --->f1 --->[D4][D4][D4]"
          ]
        }
      ]
    }
  ]
}